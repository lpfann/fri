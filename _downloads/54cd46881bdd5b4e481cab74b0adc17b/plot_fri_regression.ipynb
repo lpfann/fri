{
  "cells": [
    {
      "cell_type": "code",
      "execution_count": null,
      "metadata": {
        "collapsed": false
      },
      "outputs": [],
      "source": [
        "%matplotlib inline"
      ]
    },
    {
      "cell_type": "markdown",
      "metadata": {},
      "source": [
        "\n# FRI on Regression data\n\n\nAn example plot created using :class:`fri.fri.FRIRegression` on Regression data\n\n"
      ]
    },
    {
      "cell_type": "code",
      "execution_count": null,
      "metadata": {
        "collapsed": false
      },
      "outputs": [],
      "source": [
        "from fri.genData import genRegressionData\nX,y = genRegressionData(n_samples=100, n_features=6, n_strel=2, n_redundant=2,\n                        n_repeated=0, random_state=123)\n\nfrom sklearn.preprocessing import StandardScaler\nX_scaled = StandardScaler().fit_transform(X)\n\nfrom fri import FRIRegression\nfri_model = FRIRegression()\nfri_model.fit(X_scaled,y)\n\nfrom fri.plot import plot_relevance_bars\nimport matplotlib.pyplot as plt\nfig, ax = plt.subplots(1, 1,figsize=(6,4))\n\n# plot the bars on the axis, colored according to fri\nplot_relevance_bars(ax,fri_model.interval_,classes=fri_model.relevance_classes_)"
      ]
    }
  ],
  "metadata": {
    "kernelspec": {
      "display_name": "Python 3",
      "language": "python",
      "name": "python3"
    },
    "language_info": {
      "codemirror_mode": {
        "name": "ipython",
        "version": 3
      },
      "file_extension": ".py",
      "mimetype": "text/x-python",
      "name": "python",
      "nbconvert_exporter": "python",
      "pygments_lexer": "ipython3",
      "version": "3.6.9"
    }
  },
  "nbformat": 4,
  "nbformat_minor": 0
}