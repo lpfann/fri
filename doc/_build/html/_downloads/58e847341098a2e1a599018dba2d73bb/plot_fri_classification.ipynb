{
  "cells": [
    {
      "cell_type": "code",
      "execution_count": null,
      "metadata": {
        "collapsed": false
      },
      "outputs": [],
      "source": [
        "%matplotlib inline"
      ]
    },
    {
      "cell_type": "markdown",
      "metadata": {},
      "source": [
        "\n# Quick plotting without explicit matplotlib\n\n\nAn example plot of `FRI` output on classification data\n"
      ]
    },
    {
      "cell_type": "code",
      "execution_count": null,
      "metadata": {
        "collapsed": false
      },
      "outputs": [],
      "source": [
        "from fri import genClassificationData\n\nX, y = genClassificationData(n_samples=100, n_features=6, n_strel=2, n_redundant=2,\n                             n_repeated=0, random_state=123)\n\nfrom sklearn.preprocessing import StandardScaler\n\nX_scaled = StandardScaler().fit_transform(X)\n\nfrom fri import FRI, ProblemName\n\nfri_model = FRI(ProblemName.CLASSIFICATION)\nfri_model.fit(X_scaled, y)\n\nfrom fri.plot import plot_intervals\n\nplot_intervals(fri_model)"
      ]
    }
  ],
  "metadata": {
    "kernelspec": {
      "display_name": "Python 3",
      "language": "python",
      "name": "python3"
    },
    "language_info": {
      "codemirror_mode": {
        "name": "ipython",
        "version": 3
      },
      "file_extension": ".py",
      "mimetype": "text/x-python",
      "name": "python",
      "nbconvert_exporter": "python",
      "pygments_lexer": "ipython3",
      "version": "3.7.3"
    }
  },
  "nbformat": 4,
  "nbformat_minor": 0
}