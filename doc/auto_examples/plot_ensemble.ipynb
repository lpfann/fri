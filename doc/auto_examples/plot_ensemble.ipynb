{
  "cells": [
    {
      "cell_type": "code",
      "execution_count": null,
      "metadata": {
        "collapsed": false
      },
      "outputs": [],
      "source": [
        "%matplotlib inline"
      ]
    },
    {
      "cell_type": "markdown",
      "metadata": {},
      "source": [
        "\n# Ensemble on Classification data\n\n\nAn example plot created using :class:`fri.fri.EnsembleFRI` on Classification data\n\n"
      ]
    },
    {
      "cell_type": "code",
      "execution_count": null,
      "metadata": {
        "collapsed": false
      },
      "outputs": [],
      "source": [
        "from fri import genClassificationData\nX,y = genClassificationData(n_samples=100, n_features=6,n_strel=2, n_redundant=2,\n                    n_repeated=0, flip_y=0,random_state=123)\n\nfrom sklearn.preprocessing import StandardScaler\nX_scaled = StandardScaler().fit_transform(X)\n\nfrom fri import plot, FRIClassification, EnsembleFRI\nmodel = FRIClassification()\nfri = EnsembleFRI(model)\n\nfri.fit(X_scaled,y)\n\n\nplot.plotIntervals(fri.interval_)"
      ]
    }
  ],
  "metadata": {
    "kernelspec": {
      "display_name": "Python 3",
      "language": "python",
      "name": "python3"
    },
    "language_info": {
      "codemirror_mode": {
        "name": "ipython",
        "version": 3
      },
      "file_extension": ".py",
      "mimetype": "text/x-python",
      "name": "python",
      "nbconvert_exporter": "python",
      "pygments_lexer": "ipython3",
      "version": "3.6.3"
    }
  },
  "nbformat": 4,
  "nbformat_minor": 0
}