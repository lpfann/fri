{
 "cells": [
  {
   "cell_type": "code",
   "execution_count": null,
   "metadata": {},
   "outputs": [],
   "source": [
    "%matplotlib inline"
   ]
  },
  {
   "cell_type": "markdown",
   "metadata": {},
   "source": [
    "\n",
    "# FRI on Regression data\n",
    "\n",
    "\n",
    "An example plot created using :class:`fri.fri.FRIRegression` on Regression data\n",
    "\n"
   ]
  },
  {
   "cell_type": "code",
   "execution_count": null,
   "metadata": {},
   "outputs": [],
   "source": [
    "from fri.genData import genRegressionData\n",
    "X,y = genRegressionData(n_samples=100, n_features=6, n_strel=2, n_redundant=2,\n",
    "                        n_repeated=0, random_state=123)\n",
    "\n",
    "from sklearn.preprocessing import StandardScaler\n",
    "X_scaled = StandardScaler().fit_transform(X)\n",
    "\n",
    "from fri import plot, FRIRegression\n",
    "fri = FRIRegression()\n",
    "\n",
    "fri.fit(X_scaled,y)\n",
    "\n",
    "\n",
    "plot.plotIntervals(fri.interval_)"
   ]
  }
 ],
 "metadata": {
  "kernelspec": {
   "display_name": "Python 3",
   "language": "python",
   "name": "python3"
  },
  "language_info": {
   "codemirror_mode": {
    "name": "ipython",
    "version": 3
   },
   "file_extension": ".py",
   "mimetype": "text/x-python",
   "name": "python",
   "nbconvert_exporter": "python",
   "pygments_lexer": "ipython3",
   "version": "3.6.6"
  }
 },
 "nbformat": 4,
 "nbformat_minor": 1
}
