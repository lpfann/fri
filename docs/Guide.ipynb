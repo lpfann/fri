{
 "cells": [
  {
   "cell_type": "markdown",
   "metadata": {},
   "source": [
    "# Quick start guide\n"
   ]
  },
  {
   "cell_type": "markdown",
   "metadata": {},
   "source": [
    "## Installation\n",
    "### Stable\n",
    "Fri can be installed via the Python Package Index (PyPI).\n",
    "\n",
    "If you have `pip` installed just execute the command\n",
    "\n",
    "    pip install fri\n",
    "   \n",
    "to get the newest stable version.\n",
    "\n",
    "The dependencies should be installed and checked automatically.\n",
    "If you have problems installing please open issue at our [tracker](https://github.com/lpfann/fri/issues/new).\n",
    "\n",
    "### Development\n",
    "To install a bleeding edge dev version of `FRI` you can clone the GitHub repository using\n",
    "\n",
    "    git clone git@github.com:lpfann/fri.git\n",
    "\n",
    "and then check out the `dev` branch: `git checkout dev`.\n",
    "\n",
    "We use [poetry](https://poetry.eustace.io/) for dependency management.\n",
    "\n",
    "Run\n",
    "\n",
    "    poetry install\n",
    "\n",
    "in the cloned repository to install `fri` in a virtualenv.\n",
    "\n",
    "\n",
    "\n",
    "To check if everything works as intented you can use `pytest` to run the unit tests.\n",
    "Just run the command\n",
    "\n",
    "    poetry run pytest\n",
    "\n",
    "in the main project folder"
   ]
  },
  {
   "cell_type": "markdown",
   "metadata": {},
   "source": [
    "## Using FRI\n",
    "Now we showcase the workflow of using FRI on a simple classification problem.\n",
    "\n",
    "### Data\n",
    "To have something to work with, we need some data first.\n",
    "`fri` includes a generation method for binary classification and regression data.\n",
    "\n",
    "In our case we need some classification data."
   ]
  },
  {
   "cell_type": "code",
   "execution_count": 1,
   "metadata": {
    "ExecuteTime": {
     "end_time": "2019-08-28T14:32:53.873094Z",
     "start_time": "2019-08-28T14:32:53.191396Z"
    },
    "pycharm": {
     "is_executing": false
    }
   },
   "outputs": [],
   "source": [
    "import numpy as np\n",
    "# fixed Seed for demonstration\n",
    "STATE = np.random.RandomState(123)\n",
    "\n",
    "from fri import genClassificationData"
   ]
  },
  {
   "cell_type": "markdown",
   "metadata": {},
   "source": [
    "We want to create a small set with a few features.\n",
    "\n",
    "Because we want to showcase the all-relevant feature selection, we generate multiple strongly and weakly relevant features."
   ]
  },
  {
   "cell_type": "code",
   "execution_count": 2,
   "metadata": {
    "ExecuteTime": {
     "end_time": "2019-08-28T14:32:53.877056Z",
     "start_time": "2019-08-28T14:32:53.874538Z"
    },
    "pycharm": {
     "is_executing": false
    }
   },
   "outputs": [],
   "source": [
    "n = 300\n",
    "features = 6\n",
    "strongly_relevant = 2\n",
    "weakly_relevant = 2"
   ]
  },
  {
   "cell_type": "code",
   "execution_count": 3,
   "metadata": {
    "ExecuteTime": {
     "end_time": "2019-08-28T14:32:53.886854Z",
     "start_time": "2019-08-28T14:32:53.880127Z"
    },
    "pycharm": {
     "is_executing": false
    }
   },
   "outputs": [],
   "source": [
    "X,y = genClassificationData(n_samples=n,\n",
    "                            n_features=features,\n",
    "                            n_strel=strongly_relevant,\n",
    "                            n_redundant=weakly_relevant,\n",
    "                            random_state=STATE)"
   ]
  },
  {
   "cell_type": "markdown",
   "metadata": {},
   "source": [
    "The method also prints out the parameters again."
   ]
  },
  {
   "cell_type": "code",
   "execution_count": 4,
   "metadata": {
    "ExecuteTime": {
     "end_time": "2019-08-28T14:32:53.900393Z",
     "start_time": "2019-08-28T14:32:53.888935Z"
    },
    "pycharm": {
     "is_executing": false
    }
   },
   "outputs": [
    {
     "data": {
      "text/plain": [
       "(300, 6)"
      ]
     },
     "execution_count": 4,
     "metadata": {},
     "output_type": "execute_result"
    }
   ],
   "source": [
    "X.shape"
   ]
  },
  {
   "cell_type": "markdown",
   "metadata": {},
   "source": [
    "We created a binary classification set with 6 features of which 2 are strongly relevant and 2 weakly relevant."
   ]
  },
  {
   "cell_type": "markdown",
   "metadata": {},
   "source": [
    "#### Preprocess\n",
    "Because our method expects mean centered data we need to standardize it first.\n",
    "This centers the values around 0 and deviation to the standard deviation"
   ]
  },
  {
   "cell_type": "code",
   "execution_count": 5,
   "metadata": {
    "ExecuteTime": {
     "end_time": "2019-08-28T14:32:53.906280Z",
     "start_time": "2019-08-28T14:32:53.901554Z"
    },
    "pycharm": {
     "is_executing": false
    }
   },
   "outputs": [],
   "source": [
    "from sklearn.preprocessing import StandardScaler\n",
    "X_scaled = StandardScaler().fit_transform(X)"
   ]
  },
  {
   "cell_type": "markdown",
   "metadata": {},
   "source": [
    "### Model\n",
    "Now we need to creata a Model. \n",
    "\n",
    "We use the `FRI` module.\n"
   ]
  },
  {
   "cell_type": "code",
   "execution_count": 6,
   "metadata": {
    "ExecuteTime": {
     "end_time": "2019-08-28T14:32:53.912729Z",
     "start_time": "2019-08-28T14:32:53.907377Z"
    },
    "pycharm": {
     "is_executing": false
    }
   },
   "outputs": [],
   "source": [
    "import fri"
   ]
  },
  {
   "cell_type": "markdown",
   "metadata": {},
   "source": [
    "`fri` provides a convenience class `fri.FRI` to create a model.\n",
    "\n",
    "`fri.FRI` needs the type of problem as a first argument of type `ProblemName`.\n",
    "\n",
    "Depending on the Problem you want to analyze pick from one of the available models in `ProblemName`."
   ]
  },
  {
   "cell_type": "code",
   "execution_count": 7,
   "metadata": {
    "ExecuteTime": {
     "end_time": "2019-08-28T14:32:53.921812Z",
     "start_time": "2019-08-28T14:32:53.913991Z"
    },
    "pycharm": {
     "is_executing": false
    }
   },
   "outputs": [
    {
     "data": {
      "text/plain": [
       "[<ProblemName.CLASSIFICATION: [<class 'fri.model.classification.Classification'>, <ProblemName.CLASSIFICATION: 1>]>,\n",
       " <ProblemName.REGRESSION: [<class 'fri.model.regression.Regression'>, <ProblemName.REGRESSION: 2>]>,\n",
       " <ProblemName.ORDINALREGRESSION: [<class 'fri.model.ordinal_regression.OrdinalRegression'>, <ProblemName.ORDINALREGRESSION: 3>]>,\n",
       " <ProblemName.LUPI_CLASSIFICATION: [<class 'fri.model.lupi_classification.LUPI_Classification'>, <ProblemName.LUPI_CLASSIFICATION: 4>]>,\n",
       " <ProblemName.LUPI_REGRESSION: [<class 'fri.model.lupi_regression.LUPI_Regression'>, <ProblemName.LUPI_REGRESSION: 5>]>,\n",
       " <ProblemName.LUPI_ORDREGRESSION: [<class 'fri.model.lupi_ordinal_regression.LUPI_OrdinalRegression'>, <ProblemName.LUPI_ORDREGRESSION: 6>]>]"
      ]
     },
     "execution_count": 7,
     "metadata": {},
     "output_type": "execute_result"
    }
   ],
   "source": [
    "list(fri.ProblemName)"
   ]
  },
  {
   "cell_type": "markdown",
   "metadata": {},
   "source": [
    "Because we have Classification data we use the `ProblemName.CLASSIFICATION` to instantiate our model."
   ]
  },
  {
   "cell_type": "code",
   "execution_count": 10,
   "metadata": {
    "ExecuteTime": {
     "end_time": "2019-08-28T14:34:59.796262Z",
     "start_time": "2019-08-28T14:34:59.789515Z"
    },
    "pycharm": {
     "is_executing": false
    }
   },
   "outputs": [],
   "source": [
    "fri_model = fri.FRI(fri.ProblemName.CLASSIFICATION,\n",
    "                    loss_slack=0.2,\n",
    "                    w_l1_slack=0.2,\n",
    "                    random_state=STATE)"
   ]
  },
  {
   "cell_type": "code",
   "execution_count": 11,
   "metadata": {
    "ExecuteTime": {
     "end_time": "2019-08-28T14:34:59.959157Z",
     "start_time": "2019-08-28T14:34:59.951895Z"
    },
    "pycharm": {
     "is_executing": false
    }
   },
   "outputs": [
    {
     "data": {
      "text/plain": [
       "FRI(loss_slack=0.2, n_jobs=1, n_param_search=10, n_probe_features=20,\n",
       "    normalize=True,\n",
       "    problemName=<ProblemName.CLASSIFICATION: [<class 'fri.model.classification.Classification'>, <ProblemName.CLASSIFICATION: 1>]>,\n",
       "    random_state=RandomState(MT19937) at 0x25AFE7F5E18, verbose=0,\n",
       "    w_l1_slack=0.2)"
      ]
     },
     "execution_count": 11,
     "metadata": {},
     "output_type": "execute_result"
    }
   ],
   "source": [
    "fri_model"
   ]
  },
  {
   "cell_type": "markdown",
   "metadata": {},
   "source": [
    "We used no parameters for creation so the defaults are active."
   ]
  },
  {
   "cell_type": "markdown",
   "metadata": {},
   "source": [
    "#### Fitting to data\n",
    "Now we can just fit the model to the data using `scikit-learn` like commands."
   ]
  },
  {
   "cell_type": "code",
   "execution_count": 12,
   "metadata": {
    "ExecuteTime": {
     "end_time": "2019-08-28T14:35:01.690698Z",
     "start_time": "2019-08-28T14:35:00.423685Z"
    },
    "pycharm": {
     "is_executing": false
    }
   },
   "outputs": [
    {
     "data": {
      "text/plain": [
       "FRI(loss_slack=0.2, n_jobs=1, n_param_search=10, n_probe_features=20,\n",
       "    normalize=True,\n",
       "    problemName=<ProblemName.CLASSIFICATION: [<class 'fri.model.classification.Classification'>, <ProblemName.CLASSIFICATION: 1>]>,\n",
       "    random_state=RandomState(MT19937) at 0x25AFE7F5E18, verbose=0,\n",
       "    w_l1_slack=0.2)"
      ]
     },
     "execution_count": 12,
     "metadata": {},
     "output_type": "execute_result"
    }
   ],
   "source": [
    "fri_model.fit(X_scaled,y)"
   ]
  },
  {
   "cell_type": "markdown",
   "metadata": {},
   "source": [
    "The resulting feature relevance bounds are saved in the `interval_` variable."
   ]
  },
  {
   "cell_type": "code",
   "execution_count": 13,
   "metadata": {
    "ExecuteTime": {
     "end_time": "2019-08-28T14:35:01.695887Z",
     "start_time": "2019-08-28T14:35:01.692187Z"
    },
    "pycharm": {
     "is_executing": false
    }
   },
   "outputs": [
    {
     "data": {
      "text/plain": [
       "array([[1.99563942e-01, 3.79968717e-01],\n",
       "       [2.12189365e-01, 4.19893133e-01],\n",
       "       [0.00000000e+00, 4.62347531e-01],\n",
       "       [0.00000000e+00, 4.58075157e-01],\n",
       "       [0.00000000e+00, 4.08336422e-02],\n",
       "       [1.59611431e-10, 3.54807291e-02]])"
      ]
     },
     "execution_count": 13,
     "metadata": {},
     "output_type": "execute_result"
    }
   ],
   "source": [
    "fri_model.interval_"
   ]
  },
  {
   "cell_type": "markdown",
   "metadata": {},
   "source": [
    "If you want to print out the relevance class use the `print_interval_with_class()` function."
   ]
  },
  {
   "cell_type": "code",
   "execution_count": 14,
   "metadata": {
    "ExecuteTime": {
     "end_time": "2019-08-28T14:35:01.724339Z",
     "start_time": "2019-08-28T14:35:01.697652Z"
    },
    "pycharm": {
     "is_executing": false
    }
   },
   "outputs": [
    {
     "name": "stdout",
     "output_type": "stream",
     "text": [
      "############## Relevance bounds ##############\n",
      "feature: [LB -- UB], relevance class\n",
      "      0: [0.2 -- 0.4], Strong relevant\n",
      "      1: [0.2 -- 0.4], Strong relevant\n",
      "      2: [0.0 -- 0.5], Weak relevant\n",
      "      3: [0.0 -- 0.5], Weak relevant\n",
      "      4: [0.0 -- 0.0], Irrelevant\n",
      "      5: [0.0 -- 0.0], Irrelevant\n",
      "\n"
     ]
    }
   ],
   "source": [
    "print(fri_model.print_interval_with_class())"
   ]
  },
  {
   "cell_type": "markdown",
   "metadata": {},
   "source": [
    "The bounds are grouped in 2d sublists for each feature.\n",
    "\n",
    "\n",
    "To acess the relevance bounds for feature 2 we would use"
   ]
  },
  {
   "cell_type": "code",
   "execution_count": 15,
   "metadata": {
    "ExecuteTime": {
     "end_time": "2019-08-28T14:35:02.033511Z",
     "start_time": "2019-08-28T14:35:02.024846Z"
    },
    "pycharm": {
     "is_executing": false
    }
   },
   "outputs": [
    {
     "data": {
      "text/plain": [
       "array([0.        , 0.46234753])"
      ]
     },
     "execution_count": 15,
     "metadata": {},
     "output_type": "execute_result"
    }
   ],
   "source": [
    "fri_model.interval_[2]"
   ]
  },
  {
   "cell_type": "markdown",
   "metadata": {},
   "source": [
    "The relevance classes are saved in the corresponding variable `relevance_classes_`:"
   ]
  },
  {
   "cell_type": "code",
   "execution_count": 16,
   "metadata": {
    "ExecuteTime": {
     "end_time": "2019-08-28T14:35:02.406661Z",
     "start_time": "2019-08-28T14:35:02.398633Z"
    },
    "pycharm": {
     "is_executing": false
    }
   },
   "outputs": [
    {
     "data": {
      "text/plain": [
       "array([2, 2, 1, 1, 0, 0])"
      ]
     },
     "execution_count": 16,
     "metadata": {},
     "output_type": "execute_result"
    }
   ],
   "source": [
    "fri_model.relevance_classes_"
   ]
  },
  {
   "cell_type": "markdown",
   "metadata": {},
   "source": [
    "`2` denotes strongly relevant features, `1` weakly relevant and `0` irrelevant."
   ]
  },
  {
   "cell_type": "markdown",
   "metadata": {},
   "source": [
    "#### Plot results\n",
    "\n",
    "The bounds in numerical form are useful for postprocesing.\n",
    "If we want a human to look at it, we recommend the plot function `plot_relevance_bars`.\n",
    "\n",
    "We can also color the bars according to `relevance_classes_`"
   ]
  },
  {
   "cell_type": "code",
   "execution_count": 17,
   "metadata": {
    "ExecuteTime": {
     "end_time": "2019-08-28T14:35:03.941091Z",
     "start_time": "2019-08-28T14:35:03.785143Z"
    },
    "pycharm": {
     "is_executing": false
    }
   },
   "outputs": [
    {
     "data": {
      "image/png": "[encoded data removed]",
      "text/plain": [
       "<Figure size 432x216 with 1 Axes>"
      ]
     },
     "metadata": {
      "needs_background": "light"
     },
     "output_type": "display_data"
    }
   ],
   "source": [
    "# Import plot function\n",
    "from fri.plot import plot_relevance_bars\n",
    "import matplotlib.pyplot as plt\n",
    "%matplotlib inline\n",
    "\n",
    "# Create new figure, where we can put an axis on\n",
    "fig, ax = plt.subplots(1, 1,figsize=(6,3))\n",
    "\n",
    "# plot the bars on the axis, colored according to fri\n",
    "out = plot_relevance_bars(ax,fri_model.interval_,classes=fri_model.relevance_classes_)"
   ]
  },
  {
   "cell_type": "markdown",
   "metadata": {},
   "source": [
    "### Setting constraints manually\n",
    "Our model also allows to compute relevance bounds when the user sets a given range for the features.\n",
    "\n",
    "We use a dictionary to encode our constraints.\n"
   ]
  },
  {
   "cell_type": "code",
   "execution_count": 18,
   "metadata": {
    "ExecuteTime": {
     "end_time": "2019-08-28T14:35:22.292242Z",
     "start_time": "2019-08-28T14:35:22.288871Z"
    },
    "pycharm": {
     "is_executing": false
    }
   },
   "outputs": [],
   "source": [
    "preset = {}"
   ]
  },
  {
   "cell_type": "markdown",
   "metadata": {},
   "source": [
    "#### Example\n",
    "As an example, let us constrain the third from our example to the minimum relevance bound.\n",
    "\n"
   ]
  },
  {
   "cell_type": "code",
   "execution_count": 19,
   "metadata": {
    "ExecuteTime": {
     "end_time": "2019-08-28T14:35:22.622077Z",
     "start_time": "2019-08-28T14:35:22.616911Z"
    },
    "pycharm": {
     "is_executing": false
    }
   },
   "outputs": [],
   "source": [
    "preset[2] = fri_model.interval_[2, 0]"
   ]
  },
  {
   "cell_type": "markdown",
   "metadata": {},
   "source": [
    "We use the function `constrained_intervals`.\n",
    "\n",
    "Note: we need to fit the model before we can use this function.\n",
    "We already did that, so we are fine."
   ]
  },
  {
   "cell_type": "code",
   "execution_count": 20,
   "metadata": {
    "ExecuteTime": {
     "end_time": "2019-08-28T14:35:24.032095Z",
     "start_time": "2019-08-28T14:35:23.012512Z"
    },
    "pycharm": {
     "is_executing": false
    }
   },
   "outputs": [],
   "source": [
    "const_ints = fri_model.constrained_intervals(preset=preset)"
   ]
  },
  {
   "cell_type": "code",
   "execution_count": 21,
   "metadata": {
    "ExecuteTime": {
     "end_time": "2019-08-28T14:35:24.037308Z",
     "start_time": "2019-08-28T14:35:24.033455Z"
    },
    "pycharm": {
     "is_executing": false
    }
   },
   "outputs": [
    {
     "data": {
      "text/plain": [
       "array([[2.15480177e-01, 3.79968718e-01],\n",
       "       [2.35275798e-01, 4.19820750e-01],\n",
       "       [0.00000000e+00, 0.00000000e+00],\n",
       "       [2.55994922e-01, 4.40560181e-01],\n",
       "       [0.00000000e+00, 3.24886271e-02],\n",
       "       [2.49563132e-11, 3.32969678e-02]])"
      ]
     },
     "execution_count": 21,
     "metadata": {},
     "output_type": "execute_result"
    }
   ],
   "source": [
    "const_ints"
   ]
  },
  {
   "cell_type": "markdown",
   "metadata": {},
   "source": [
    "Feature 3 is set to its minimum (at 0).\n",
    "\n",
    "How does it look visually?"
   ]
  },
  {
   "cell_type": "code",
   "execution_count": 22,
   "metadata": {
    "ExecuteTime": {
     "end_time": "2019-08-28T14:35:25.060955Z",
     "start_time": "2019-08-28T14:35:24.901461Z"
    },
    "pycharm": {
     "is_executing": false
    }
   },
   "outputs": [
    {
     "data": {
      "image/png": "[encoded data removed]",
      "text/plain": [
       "<Figure size 432x216 with 1 Axes>"
      ]
     },
     "metadata": {
      "needs_background": "light"
     },
     "output_type": "display_data"
    }
   ],
   "source": [
    "fig, ax = plt.subplots(1, 1,figsize=(6,3))\n",
    "out = plot_relevance_bars(ax, const_ints)"
   ]
  },
  {
   "cell_type": "markdown",
   "metadata": {},
   "source": [
    "Feature 3 is reduced to its minimum (no contribution).\n",
    "\n",
    "In turn, its correlated partner feature 4 had to take its maximum contribution."
   ]
  },
  {
   "cell_type": "markdown",
   "metadata": {},
   "source": [
    "### Print internal Parameters\n",
    "\n",
    "If we want to take at internal parameters, we can use the `verbose` flag in the model creation."
   ]
  },
  {
   "cell_type": "code",
   "execution_count": 23,
   "metadata": {
    "ExecuteTime": {
     "end_time": "2019-08-28T14:33:51.595829Z",
     "start_time": "2019-08-28T14:33:51.583643Z"
    },
    "pycharm": {
     "is_executing": false
    }
   },
   "outputs": [],
   "source": [
    "fri_model = fri.FRI(fri.ProblemName.CLASSIFICATION, verbose=True, random_state=STATE)"
   ]
  },
  {
   "cell_type": "code",
   "execution_count": 24,
   "metadata": {
    "ExecuteTime": {
     "end_time": "2019-08-28T14:33:53.023679Z",
     "start_time": "2019-08-28T14:33:51.789766Z"
    },
    "pycharm": {
     "is_executing": false
    }
   },
   "outputs": [
    {
     "name": "stdout",
     "output_type": "stream",
     "text": [
      "Fitting 3 folds for each of 10 candidates, totalling 30 fits\n"
     ]
    },
    {
     "name": "stderr",
     "output_type": "stream",
     "text": [
      "[Parallel(n_jobs=1)]: Using backend SequentialBackend with 1 concurrent workers.\n",
      "[Parallel(n_jobs=1)]: Done  30 out of  30 | elapsed:    0.1s finished\n",
      "[Parallel(n_jobs=1)]: Using backend SequentialBackend with 1 concurrent workers.\n"
     ]
    },
    {
     "name": "stdout",
     "output_type": "stream",
     "text": [
      "******************** Best found baseline model ********************\n",
      "Classification_SVM(C=0.053126576297160326)\n",
      "score:  0.9766669259288066\n",
      "'loss: 59.43457025190969'\n",
      "'w_l1: 3.186624268460236'\n",
      "'w: shape (6,)'\n",
      "'b: shape ()'\n",
      "'slack: shape (300,)'\n",
      "******************************\n"
     ]
    },
    {
     "name": "stderr",
     "output_type": "stream",
     "text": [
      "[Parallel(n_jobs=1)]: Done  18 out of  18 | elapsed:    0.1s finished\n",
      "[Parallel(n_jobs=1)]: Using backend SequentialBackend with 1 concurrent workers.\n",
      "[Parallel(n_jobs=1)]: Done  40 out of  40 | elapsed:    0.3s finished\n",
      "[Parallel(n_jobs=1)]: Using backend SequentialBackend with 1 concurrent workers.\n",
      "[Parallel(n_jobs=1)]: Done  20 out of  20 | elapsed:    0.1s finished\n",
      "INFO:root:**** Feature Selection ****\n",
      "INFO:root:Lower Probe Statistic\n",
      "INFO:root:ProbeStatistic(lower_threshold=0.0, upper_threshold=0.0, n_probes=11)\n",
      "INFO:root:Upper Probe Statistic\n",
      "INFO:root:ProbeStatistic(lower_threshold=-0.08953248574047366, upper_threshold=0.11254187120595376, n_probes=10)\n"
     ]
    },
    {
     "data": {
      "text/plain": [
       "FRI(loss_slack=0.001, n_jobs=1, n_param_search=10, n_probe_features=20,\n",
       "    normalize=True,\n",
       "    problemName=<ProblemName.CLASSIFICATION: [<class 'fri.model.classification.Classification'>, <ProblemName.CLASSIFICATION: 1>]>,\n",
       "    random_state=RandomState(MT19937) at 0x25AFE7F5E18, verbose=True,\n",
       "    w_l1_slack=0.001)"
      ]
     },
     "execution_count": 24,
     "metadata": {},
     "output_type": "execute_result"
    }
   ],
   "source": [
    "fri_model.fit(X_scaled,y)"
   ]
  },
  {
   "cell_type": "markdown",
   "metadata": {},
   "source": [
    "This prints out the parameters of the baseline model\n",
    "\n",
    "One can also see the best selected hyperparameter according to gridsearch and the training score of the model in `score`.\n"
   ]
  },
  {
   "cell_type": "markdown",
   "metadata": {},
   "source": [
    "### Multiprocessing\n",
    "To enable multiprocessing simply use the `n_jobs` parameter when init. the model.\n",
    "\n",
    "It expects an integer parameter which defines the amount of processes used.\n",
    "`n_jobs=-1` uses all available on the CPU."
   ]
  },
  {
   "cell_type": "code",
   "execution_count": 25,
   "metadata": {
    "ExecuteTime": {
     "end_time": "2019-08-28T14:38:28.559708Z",
     "start_time": "2019-08-28T14:38:28.547353Z"
    },
    "pycharm": {
     "is_executing": false
    }
   },
   "outputs": [],
   "source": [
    "fri_model = fri.FRI(fri.ProblemName.CLASSIFICATION,\n",
    "                    n_jobs=-1,\n",
    "                    verbose=1,\n",
    "                    random_state=STATE)"
   ]
  },
  {
   "cell_type": "code",
   "execution_count": 26,
   "metadata": {
    "ExecuteTime": {
     "end_time": "2019-08-28T14:38:30.439681Z",
     "start_time": "2019-08-28T14:38:28.998452Z"
    },
    "pycharm": {
     "is_executing": false
    }
   },
   "outputs": [
    {
     "name": "stdout",
     "output_type": "stream",
     "text": [
      "Fitting 3 folds for each of 10 candidates, totalling 30 fits\n"
     ]
    },
    {
     "name": "stderr",
     "output_type": "stream",
     "text": [
      "[Parallel(n_jobs=-1)]: Using backend LokyBackend with 12 concurrent workers.\n",
      "[Parallel(n_jobs=-1)]: Done  30 out of  30 | elapsed:    2.0s finished\n",
      "[Parallel(n_jobs=-1)]: Using backend LokyBackend with 12 concurrent workers.\n",
      "[Parallel(n_jobs=-1)]: Done  14 out of  18 | elapsed:    0.0s remaining:    0.0s\n",
      "[Parallel(n_jobs=-1)]: Done  18 out of  18 | elapsed:    0.0s finished\n",
      "[Parallel(n_jobs=-1)]: Using backend LokyBackend with 12 concurrent workers.\n"
     ]
    },
    {
     "name": "stdout",
     "output_type": "stream",
     "text": [
      "******************** Best found baseline model ********************\n",
      "Classification_SVM(C=31.987051186027454)\n",
      "score:  0.9900001111123456\n",
      "'loss: 8.419355087574399'\n",
      "'w_l1: 47.66916725351819'\n",
      "'w: shape (6,)'\n",
      "'b: shape ()'\n",
      "'slack: shape (300,)'\n",
      "******************************\n"
     ]
    },
    {
     "name": "stderr",
     "output_type": "stream",
     "text": [
      "[Parallel(n_jobs=-1)]: Done  40 out of  40 | elapsed:    0.1s finished\n",
      "[Parallel(n_jobs=-1)]: Using backend LokyBackend with 12 concurrent workers.\n",
      "[Parallel(n_jobs=-1)]: Done  18 out of  20 | elapsed:    0.0s remaining:    0.0s\n",
      "[Parallel(n_jobs=-1)]: Done  20 out of  20 | elapsed:    0.0s finished\n",
      "INFO:root:**** Feature Selection ****\n",
      "INFO:root:Lower Probe Statistic\n",
      "INFO:root:ProbeStatistic(lower_threshold=-0.039150504419478684, upper_threshold=0.046026976488379744, n_probes=3)\n",
      "INFO:root:Upper Probe Statistic\n",
      "INFO:root:ProbeStatistic(lower_threshold=-0.08997621770611755, upper_threshold=0.16031569991384712, n_probes=6)\n"
     ]
    },
    {
     "data": {
      "text/plain": [
       "FRI(loss_slack=0.001, n_jobs=-1, n_param_search=10, n_probe_features=20,\n",
       "    normalize=True,\n",
       "    problemName=<ProblemName.CLASSIFICATION: [<class 'fri.model.classification.Classification'>, <ProblemName.CLASSIFICATION: 1>]>,\n",
       "    random_state=RandomState(MT19937) at 0x25AFE7F5E18, verbose=1,\n",
       "    w_l1_slack=0.001)"
      ]
     },
     "execution_count": 26,
     "metadata": {},
     "output_type": "execute_result"
    }
   ],
   "source": [
    "fri_model.fit(X_scaled,y)"
   ]
  }
 ],
 "metadata": {
  "anaconda-cloud": {},
  "kernelspec": {
   "display_name": "Python 3",
   "language": "python",
   "name": "python"
  },
  "language_info": {
   "codemirror_mode": {
    "name": "ipython",
    "version": 3
   },
   "file_extension": ".py",
   "mimetype": "text/x-python",
   "name": "python",
   "nbconvert_exporter": "python",
   "pygments_lexer": "ipython3",
   "version": "3.7.6"
  },
  "pycharm": {
   "stem_cell": {
    "cell_type": "raw",
    "metadata": {
     "collapsed": false
    },
    "source": []
   }
  },
  "varInspector": {
   "cols": {
    "lenName": 16,
    "lenType": 16,
    "lenVar": 40
   },
   "kernels_config": {
    "python": {
     "delete_cmd_postfix": "",
     "delete_cmd_prefix": "del ",
     "library": "var_list.py",
     "varRefreshCmd": "print(var_dic_list())"
    },
    "r": {
     "delete_cmd_postfix": ") ",
     "delete_cmd_prefix": "rm(",
     "library": "var_list.r",
     "varRefreshCmd": "cat(var_dic_list()) "
    }
   },
   "types_to_exclude": [
    "module",
    "function",
    "builtin_function_or_method",
    "instance",
    "_Feature"
   ],
   "window_display": false
  }
 },
 "nbformat": 4,
 "nbformat_minor": 4
}
