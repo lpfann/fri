{
 "cells": [
  {
   "cell_type": "markdown",
   "metadata": {},
   "source": [
    "# Quick start guide\n"
   ]
  },
  {
   "cell_type": "markdown",
   "metadata": {},
   "source": [
    "## Installation\n",
    "### Stable\n",
    "Fri can be installed via the Python Package Index (PyPI).\n",
    "\n",
    "If you have `pip` installed just execute the command\n",
    "\n",
    "    pip install fri\n",
    "   \n",
    "to get the newest stable version.\n",
    "\n",
    "The dependencies should be installed and checked automatically.\n",
    "If you have problems installing please open issue at our [tracker](https://github.com/lpfann/fri/issues/new).\n",
    "\n",
    "### Development\n",
    "To install a bleeding edge dev version of `FRI` you can clone the GitHub repository using\n",
    "\n",
    "    git clone git@github.com:lpfann/fri.git\n",
    "\n",
    "and then check out the `dev` branch: `git checkout dev`.\n",
    "\n",
    "We use [poetry](https://poetry.eustace.io/) for dependency management.\n",
    "\n",
    "Run\n",
    "\n",
    "    poetry install\n",
    "\n",
    "in the cloned repository to install `fri` in a virtualenv.\n",
    "\n",
    "\n",
    "\n",
    "To check if everything works as intented you can use `pytest` to run the unit tests.\n",
    "Just run the command\n",
    "\n",
    "    poetry run pytest\n",
    "\n",
    "in the main project folder"
   ]
  },
  {
   "cell_type": "markdown",
   "metadata": {},
   "source": [
    "## Using FRI\n",
    "Now we showcase the workflow of using FRI on a simple classification problem.\n",
    "\n",
    "### Data\n",
    "To have something to work with, we need some data first.\n",
    "`fri` includes a generation method for binary classification and regression data.\n",
    "\n",
    "In our case we need some classification data."
   ]
  },
  {
   "cell_type": "code",
   "execution_count": 1,
   "metadata": {
    "ExecuteTime": {
     "end_time": "2019-08-28T14:32:53.873094Z",
     "start_time": "2019-08-28T14:32:53.191396Z"
    },
    "pycharm": {
     "is_executing": false
    }
   },
   "outputs": [],
   "source": [
    "from fri import genClassificationData"
   ]
  },
  {
   "cell_type": "markdown",
   "metadata": {},
   "source": [
    "We want to create a small set with a few features.\n",
    "\n",
    "Because we want to showcase the all-relevant feature selection, we generate multiple strongly and weakly relevant features."
   ]
  },
  {
   "cell_type": "code",
   "execution_count": 2,
   "metadata": {
    "ExecuteTime": {
     "end_time": "2019-08-28T14:32:53.877056Z",
     "start_time": "2019-08-28T14:32:53.874538Z"
    },
    "pycharm": {
     "is_executing": false
    }
   },
   "outputs": [],
   "source": [
    "n = 100\n",
    "features = 6\n",
    "strongly_relevant = 2\n",
    "weakly_relevant = 2"
   ]
  },
  {
   "cell_type": "code",
   "execution_count": 3,
   "metadata": {
    "ExecuteTime": {
     "end_time": "2019-08-28T14:32:53.886854Z",
     "start_time": "2019-08-28T14:32:53.880127Z"
    },
    "pycharm": {
     "is_executing": false
    }
   },
   "outputs": [],
   "source": [
    "X,y = genClassificationData(n_samples=n,\n",
    "                            n_features=features,\n",
    "                            n_strel=strongly_relevant,\n",
    "                            n_redundant=weakly_relevant,\n",
    "                            random_state=123)"
   ]
  },
  {
   "cell_type": "markdown",
   "metadata": {},
   "source": [
    "The method also prints out the parameters again."
   ]
  },
  {
   "cell_type": "code",
   "execution_count": 4,
   "metadata": {
    "ExecuteTime": {
     "end_time": "2019-08-28T14:32:53.900393Z",
     "start_time": "2019-08-28T14:32:53.888935Z"
    },
    "pycharm": {
     "is_executing": false
    }
   },
   "outputs": [
    {
     "data": {
      "text/plain": [
       "(100, 6)"
      ]
     },
     "execution_count": 4,
     "metadata": {},
     "output_type": "execute_result"
    }
   ],
   "source": [
    "X.shape"
   ]
  },
  {
   "cell_type": "markdown",
   "metadata": {},
   "source": [
    "We created a binary classification set with 6 features of which 2 are strongly relevant and 2 weakly relevant."
   ]
  },
  {
   "cell_type": "markdown",
   "metadata": {},
   "source": [
    "#### Preprocess\n",
    "Because our method expects mean centered data we need to standardize it first.\n",
    "This centers the values around 0 and deviation to the standard deviation"
   ]
  },
  {
   "cell_type": "code",
   "execution_count": 5,
   "metadata": {
    "ExecuteTime": {
     "end_time": "2019-08-28T14:32:53.906280Z",
     "start_time": "2019-08-28T14:32:53.901554Z"
    },
    "pycharm": {
     "is_executing": false
    }
   },
   "outputs": [],
   "source": [
    "from sklearn.preprocessing import StandardScaler\n",
    "X_scaled = StandardScaler().fit_transform(X)"
   ]
  },
  {
   "cell_type": "markdown",
   "metadata": {},
   "source": [
    "### Model\n",
    "Now we need to creata a Model. \n",
    "\n",
    "We use the `FRI` module.\n"
   ]
  },
  {
   "cell_type": "code",
   "execution_count": 6,
   "metadata": {
    "ExecuteTime": {
     "end_time": "2019-08-28T14:32:53.912729Z",
     "start_time": "2019-08-28T14:32:53.907377Z"
    },
    "pycharm": {
     "is_executing": false
    }
   },
   "outputs": [],
   "source": [
    "import fri"
   ]
  },
  {
   "cell_type": "markdown",
   "metadata": {},
   "source": [
    "`fri` provides a convenience class `fri.FRI` to create a model.\n",
    "\n",
    "`fri.FRI` needs the type of problem as a first argument of type `ProblemName`.\n",
    "\n",
    "Depending on the Problem you want to analyze pick from one of the available models in `ProblemName`."
   ]
  },
  {
   "cell_type": "code",
   "execution_count": 7,
   "metadata": {
    "ExecuteTime": {
     "end_time": "2019-08-28T14:32:53.921812Z",
     "start_time": "2019-08-28T14:32:53.913991Z"
    },
    "pycharm": {
     "is_executing": false
    }
   },
   "outputs": [
    {
     "data": {
      "text/plain": [
       "[<ProblemName.CLASSIFICATION: <class 'fri.model.classification.Classification'>>,\n",
       " <ProblemName.REGRESSION: <class 'fri.model.regression.Regression'>>,\n",
       " <ProblemName.ORDINALREGRESSION: <class 'fri.model.ordinal_regression.OrdinalRegression'>>,\n",
       " <ProblemName.LUPI_CLASSIFICATION: <class 'fri.model.lupi_classification.LUPI_Classification'>>,\n",
       " <ProblemName.LUPI_REGRESSION: <class 'fri.model.lupi_regression.LUPI_Regression'>>,\n",
       " <ProblemName.LUPI_ORDREGRESSION: <class 'fri.model.lupi_ordinal_regression.LUPI_OrdinalRegression'>>]"
      ]
     },
     "execution_count": 7,
     "metadata": {},
     "output_type": "execute_result"
    }
   ],
   "source": [
    "list(fri.ProblemName)"
   ]
  },
  {
   "cell_type": "markdown",
   "metadata": {},
   "source": [
    "Because we have Classification data we use the `ProblemName.CLASSIFICATION` to instantiate our model."
   ]
  },
  {
   "cell_type": "code",
   "execution_count": 46,
   "metadata": {
    "ExecuteTime": {
     "end_time": "2019-08-28T14:34:59.796262Z",
     "start_time": "2019-08-28T14:34:59.789515Z"
    },
    "pycharm": {
     "is_executing": false
    }
   },
   "outputs": [],
   "source": [
    "fri_model = fri.FRI(fri.ProblemName.CLASSIFICATION,slack_loss=0.2,slack_regularization=0.2)"
   ]
  },
  {
   "cell_type": "code",
   "execution_count": 47,
   "metadata": {
    "ExecuteTime": {
     "end_time": "2019-08-28T14:34:59.959157Z",
     "start_time": "2019-08-28T14:34:59.951895Z"
    },
    "pycharm": {
     "is_executing": false
    }
   },
   "outputs": [
    {
     "data": {
      "text/plain": [
       "FRI(n_jobs=1, n_param_search=10, n_probe_features=20, normalize=True,\n",
       "    problemName=None, random_state=RandomState(MT19937) at 0x7F30AE749C00,\n",
       "    slack_loss=None, slack_regularization=None, verbose=0)"
      ]
     },
     "execution_count": 47,
     "metadata": {},
     "output_type": "execute_result"
    }
   ],
   "source": [
    "fri_model"
   ]
  },
  {
   "cell_type": "markdown",
   "metadata": {},
   "source": [
    "We used no parameters for creation so the defaults are active."
   ]
  },
  {
   "cell_type": "markdown",
   "metadata": {},
   "source": [
    "#### Fitting to data\n",
    "Now we can just fit the model to the data using `scikit-learn` like commands."
   ]
  },
  {
   "cell_type": "code",
   "execution_count": 48,
   "metadata": {
    "ExecuteTime": {
     "end_time": "2019-08-28T14:35:01.690698Z",
     "start_time": "2019-08-28T14:35:00.423685Z"
    },
    "pycharm": {
     "is_executing": false
    }
   },
   "outputs": [
    {
     "data": {
      "text/plain": [
       "FRI(n_jobs=1, n_param_search=10, n_probe_features=20, normalize=True,\n",
       "    problemName=None, random_state=RandomState(MT19937) at 0x7F30AE749C00,\n",
       "    slack_loss=None, slack_regularization=None, verbose=0)"
      ]
     },
     "execution_count": 48,
     "metadata": {},
     "output_type": "execute_result"
    }
   ],
   "source": [
    "fri_model.fit(X_scaled,y)"
   ]
  },
  {
   "cell_type": "markdown",
   "metadata": {},
   "source": [
    "The resulting feature relevance bounds are saved in the `interval_` variable."
   ]
  },
  {
   "cell_type": "code",
   "execution_count": 49,
   "metadata": {
    "ExecuteTime": {
     "end_time": "2019-08-28T14:35:01.695887Z",
     "start_time": "2019-08-28T14:35:01.692187Z"
    },
    "pycharm": {
     "is_executing": false
    }
   },
   "outputs": [
    {
     "data": {
      "text/plain": [
       "array([[0.28158379, 0.42206863],\n",
       "       [0.26824834, 0.41605723],\n",
       "       [0.        , 0.48783056],\n",
       "       [0.        , 0.44949121],\n",
       "       [0.        , 0.04668038],\n",
       "       [0.        , 0.0604022 ]])"
      ]
     },
     "execution_count": 49,
     "metadata": {},
     "output_type": "execute_result"
    }
   ],
   "source": [
    "fri_model.interval_"
   ]
  },
  {
   "cell_type": "markdown",
   "metadata": {},
   "source": [
    "If you want to print out the relevance class use the `print_interval_with_class()` function."
   ]
  },
  {
   "cell_type": "code",
   "execution_count": 50,
   "metadata": {
    "ExecuteTime": {
     "end_time": "2019-08-28T14:35:01.724339Z",
     "start_time": "2019-08-28T14:35:01.697652Z"
    },
    "pycharm": {
     "is_executing": false
    }
   },
   "outputs": [
    {
     "name": "stdout",
     "output_type": "stream",
     "text": [
      "############## Relevance bounds ##############\n",
      "feature: [LB -- UB], relevance class\n",
      "      0: [0.3 -- 0.4], Strong relevant\n",
      "      1: [0.3 -- 0.4], Strong relevant\n",
      "      2: [0.0 -- 0.5], Weak relevant\n",
      "      3: [0.0 -- 0.4], Weak relevant\n",
      "      4: [0.0 -- 0.0], Irrelevant\n",
      "      5: [0.0 -- 0.1], Irrelevant\n",
      "\n"
     ]
    }
   ],
   "source": [
    "print(fri_model.print_interval_with_class())"
   ]
  },
  {
   "cell_type": "markdown",
   "metadata": {},
   "source": [
    "The bounds are grouped in 2d sublists for each feature.\n",
    "\n",
    "\n",
    "To acess the relevance bounds for feature 2 we would use"
   ]
  },
  {
   "cell_type": "code",
   "execution_count": 51,
   "metadata": {
    "ExecuteTime": {
     "end_time": "2019-08-28T14:35:02.033511Z",
     "start_time": "2019-08-28T14:35:02.024846Z"
    },
    "pycharm": {
     "is_executing": false
    }
   },
   "outputs": [
    {
     "data": {
      "text/plain": [
       "array([0.        , 0.48783056])"
      ]
     },
     "execution_count": 51,
     "metadata": {},
     "output_type": "execute_result"
    }
   ],
   "source": [
    "fri_model.interval_[2]"
   ]
  },
  {
   "cell_type": "markdown",
   "metadata": {},
   "source": [
    "The relevance classes are saved in the corresponding variable `relevance_classes_`:"
   ]
  },
  {
   "cell_type": "code",
   "execution_count": 52,
   "metadata": {
    "ExecuteTime": {
     "end_time": "2019-08-28T14:35:02.406661Z",
     "start_time": "2019-08-28T14:35:02.398633Z"
    },
    "pycharm": {
     "is_executing": false
    }
   },
   "outputs": [
    {
     "data": {
      "text/plain": [
       "array([2, 2, 1, 1, 0, 0])"
      ]
     },
     "execution_count": 52,
     "metadata": {},
     "output_type": "execute_result"
    }
   ],
   "source": [
    "fri_model.relevance_classes_"
   ]
  },
  {
   "cell_type": "markdown",
   "metadata": {},
   "source": [
    "`2` denotes strongly relevant features, `1` weakly relevant and `0` irrelevant."
   ]
  },
  {
   "cell_type": "markdown",
   "metadata": {},
   "source": [
    "#### Plot results\n",
    "\n",
    "The bounds in numerical form are useful for postprocesing.\n",
    "If we want a human to look at it, we recommend the plot function `plot_relevance_bars`.\n",
    "\n",
    "We can also color the bars according to `relevance_classes_`"
   ]
  },
  {
   "cell_type": "code",
   "execution_count": 53,
   "metadata": {
    "ExecuteTime": {
     "end_time": "2019-08-28T14:35:03.941091Z",
     "start_time": "2019-08-28T14:35:03.785143Z"
    },
    "pycharm": {
     "is_executing": false
    }
   },
   "outputs": [
    {
     "data": {
      "image/png": "[encoded data removed]",
      "text/plain": [
       "<Figure size 432x216 with 1 Axes>"
      ]
     },
     "metadata": {
      "needs_background": "light"
     },
     "output_type": "display_data"
    }
   ],
   "source": [
    "# Import plot function\n",
    "from fri.plot import plot_relevance_bars\n",
    "import matplotlib.pyplot as plt\n",
    "%matplotlib inline\n",
    "# Create new figure, where we can put an axis on\n",
    "fig, ax = plt.subplots(1, 1,figsize=(6,3))\n",
    "# plot the bars on the axis, colored according to fri\n",
    "out = plot_relevance_bars(ax,fri_model.interval_,classes=fri_model.relevance_classes_)"
   ]
  },
  {
   "cell_type": "markdown",
   "metadata": {},
   "source": [
    "### Setting constraints manually\n",
    "Our model also allows to compute relevance bounds when the user sets a given range for the features.\n",
    "\n",
    "We use a dictionary to encode our constraints.\n"
   ]
  },
  {
   "cell_type": "code",
   "execution_count": 54,
   "metadata": {
    "ExecuteTime": {
     "end_time": "2019-08-28T14:35:22.292242Z",
     "start_time": "2019-08-28T14:35:22.288871Z"
    },
    "pycharm": {
     "is_executing": false
    }
   },
   "outputs": [],
   "source": [
    "preset = {}"
   ]
  },
  {
   "cell_type": "markdown",
   "metadata": {},
   "source": [
    "#### Example\n",
    "As an example, let us constrain the third from our example to the minimum relevance bound.\n",
    "\n"
   ]
  },
  {
   "cell_type": "code",
   "execution_count": 55,
   "metadata": {
    "ExecuteTime": {
     "end_time": "2019-08-28T14:35:22.622077Z",
     "start_time": "2019-08-28T14:35:22.616911Z"
    },
    "pycharm": {
     "is_executing": false
    }
   },
   "outputs": [],
   "source": [
    "preset[2] = fri_model.interval_[2, 0]"
   ]
  },
  {
   "cell_type": "markdown",
   "metadata": {},
   "source": [
    "We use the function `constrained_intervals`.\n",
    "\n",
    "Note: we need to fit the model before we can use this function.\n",
    "We already did that, so we are fine."
   ]
  },
  {
   "cell_type": "code",
   "execution_count": 56,
   "metadata": {
    "ExecuteTime": {
     "end_time": "2019-08-28T14:35:24.032095Z",
     "start_time": "2019-08-28T14:35:23.012512Z"
    },
    "pycharm": {
     "is_executing": false
    }
   },
   "outputs": [],
   "source": [
    "const_ints = fri_model.constrained_intervals(preset=preset)"
   ]
  },
  {
   "cell_type": "code",
   "execution_count": 57,
   "metadata": {
    "ExecuteTime": {
     "end_time": "2019-08-28T14:35:24.037308Z",
     "start_time": "2019-08-28T14:35:24.033455Z"
    },
    "pycharm": {
     "is_executing": false
    }
   },
   "outputs": [
    {
     "data": {
      "text/plain": [
       "array([[3.33537278e-01, 3.98346587e-01],\n",
       "       [3.16282293e-01, 3.99927655e-01],\n",
       "       [0.00000000e+00, 0.00000000e+00],\n",
       "       [3.77824890e-01, 4.49491208e-01],\n",
       "       [0.00000000e+00, 2.56795434e-02],\n",
       "       [6.28844147e-11, 4.97955367e-02]])"
      ]
     },
     "execution_count": 57,
     "metadata": {},
     "output_type": "execute_result"
    }
   ],
   "source": [
    "const_ints"
   ]
  },
  {
   "cell_type": "markdown",
   "metadata": {},
   "source": [
    "Feature 3 is set to its minimum (at 0).\n",
    "\n",
    "How does it look visually?"
   ]
  },
  {
   "cell_type": "code",
   "execution_count": 58,
   "metadata": {
    "ExecuteTime": {
     "end_time": "2019-08-28T14:35:25.060955Z",
     "start_time": "2019-08-28T14:35:24.901461Z"
    },
    "pycharm": {
     "is_executing": false
    }
   },
   "outputs": [
    {
     "data": {
      "image/png": "[encoded data removed]",
      "text/plain": [
       "<Figure size 432x216 with 1 Axes>"
      ]
     },
     "metadata": {
      "needs_background": "light"
     },
     "output_type": "display_data"
    }
   ],
   "source": [
    "fig, ax = plt.subplots(1, 1,figsize=(6,3))\n",
    "out = plot_relevance_bars(ax, const_ints)"
   ]
  },
  {
   "cell_type": "markdown",
   "metadata": {},
   "source": [
    "Feature 3 is reduced to its minimum (no contribution).\n",
    "\n",
    "In turn, its correlated partner feature 4 had to take its maximum contribution."
   ]
  },
  {
   "cell_type": "markdown",
   "metadata": {},
   "source": [
    "### Print internal Parameters\n",
    "\n",
    "If we want to take at internal parameters, we can use the `verbose` flag in the model creation."
   ]
  },
  {
   "cell_type": "code",
   "execution_count": 39,
   "metadata": {
    "ExecuteTime": {
     "end_time": "2019-08-28T14:33:51.595829Z",
     "start_time": "2019-08-28T14:33:51.583643Z"
    },
    "pycharm": {
     "is_executing": false
    }
   },
   "outputs": [],
   "source": [
    "fri_model = fri.FRI(fri.ProblemName.CLASSIFICATION, verbose=True)"
   ]
  },
  {
   "cell_type": "code",
   "execution_count": 40,
   "metadata": {
    "ExecuteTime": {
     "end_time": "2019-08-28T14:33:53.023679Z",
     "start_time": "2019-08-28T14:33:51.789766Z"
    },
    "pycharm": {
     "is_executing": false
    }
   },
   "outputs": [
    {
     "name": "stdout",
     "output_type": "stream",
     "text": [
      "Fitting 3 folds for each of 10 candidates, totalling 30 fits\n"
     ]
    },
    {
     "name": "stderr",
     "output_type": "stream",
     "text": [
      "[Parallel(n_jobs=1)]: Using backend SequentialBackend with 1 concurrent workers.\n",
      "[Parallel(n_jobs=1)]: Done  30 out of  30 | elapsed:    0.3s finished\n",
      "[Parallel(n_jobs=1)]: Using backend SequentialBackend with 1 concurrent workers.\n"
     ]
    },
    {
     "name": "stdout",
     "output_type": "stream",
     "text": [
      "******************** Best found baseline model ********************\n",
      "Classification_SVM(C=6523.18940508926)\n",
      "score:  1.0\n",
      "'loss: -3.2162506599275367e-12'\n",
      "'w_l1: 28.743902865913274'\n",
      "'w: shape (6,)'\n",
      "'b: shape ()'\n",
      "'slack: shape (100,)'\n",
      "******************************\n"
     ]
    },
    {
     "name": "stderr",
     "output_type": "stream",
     "text": [
      "[Parallel(n_jobs=1)]: Done  18 out of  18 | elapsed:    0.2s finished\n",
      "[Parallel(n_jobs=1)]: Using backend SequentialBackend with 1 concurrent workers.\n",
      "[Parallel(n_jobs=1)]: Done  40 out of  40 | elapsed:    0.4s finished\n",
      "[Parallel(n_jobs=1)]: Using backend SequentialBackend with 1 concurrent workers.\n"
     ]
    },
    {
     "name": "stdout",
     "output_type": "stream",
     "text": [
      "FS threshold: -0.3485850797626653-0.37121449904943193, Mean:0.011314709643383315, Std:0.014497743389929868, n_probes 4\n",
      "FS threshold: -0.09430000942634031-0.1585322164066591, Mean:0.0321161034901594, Std:0.014735763155338663, n_probes 7\n"
     ]
    },
    {
     "name": "stderr",
     "output_type": "stream",
     "text": [
      "[Parallel(n_jobs=1)]: Done  20 out of  20 | elapsed:    0.3s finished\n"
     ]
    },
    {
     "data": {
      "text/plain": [
       "FRI(n_jobs=1, n_param_search=10, n_probe_features=20, normalize=True,\n",
       "    problemName=None, random_state=RandomState(MT19937) at 0x7F30AE749C00,\n",
       "    slack_loss=None, slack_regularization=None, verbose=True)"
      ]
     },
     "execution_count": 40,
     "metadata": {},
     "output_type": "execute_result"
    }
   ],
   "source": [
    "fri_model.fit(X_scaled,y)"
   ]
  },
  {
   "cell_type": "markdown",
   "metadata": {},
   "source": [
    "This prints out the parameters of the baseline model\n",
    "\n",
    "One can also see the best selected hyperparameter according to gridsearch and the training score of the model in `score`.\n"
   ]
  },
  {
   "cell_type": "markdown",
   "metadata": {},
   "source": [
    "### Multiprocessing\n",
    "To enable multiprocessing simply use the `n_jobs` parameter when init. the model.\n",
    "\n",
    "It expects an integer parameter which defines the amount of processes used.\n",
    "`n_jobs=-1` uses all available on the CPU."
   ]
  },
  {
   "cell_type": "code",
   "execution_count": 61,
   "metadata": {
    "ExecuteTime": {
     "end_time": "2019-08-28T14:38:28.559708Z",
     "start_time": "2019-08-28T14:38:28.547353Z"
    },
    "pycharm": {
     "is_executing": false
    }
   },
   "outputs": [],
   "source": [
    "fri_model = fri.FRI(fri.ProblemName.CLASSIFICATION, n_jobs=-1, verbose=1)"
   ]
  },
  {
   "cell_type": "code",
   "execution_count": 62,
   "metadata": {
    "ExecuteTime": {
     "end_time": "2019-08-28T14:38:30.439681Z",
     "start_time": "2019-08-28T14:38:28.998452Z"
    },
    "pycharm": {
     "is_executing": false
    }
   },
   "outputs": [
    {
     "name": "stdout",
     "output_type": "stream",
     "text": [
      "Fitting 3 folds for each of 10 candidates, totalling 30 fits\n"
     ]
    },
    {
     "name": "stderr",
     "output_type": "stream",
     "text": [
      "[Parallel(n_jobs=-1)]: Using backend LokyBackend with 8 concurrent workers.\n",
      "[Parallel(n_jobs=-1)]: Done  15 out of  30 | elapsed:    0.1s remaining:    0.1s\n",
      "[Parallel(n_jobs=-1)]: Done  30 out of  30 | elapsed:    0.2s finished\n",
      "[Parallel(n_jobs=-1)]: Using backend LokyBackend with 8 concurrent workers.\n",
      "[Parallel(n_jobs=-1)]: Done   3 out of  18 | elapsed:    0.1s remaining:    0.4s\n",
      "[Parallel(n_jobs=-1)]: Done  18 out of  18 | elapsed:    0.1s finished\n",
      "[Parallel(n_jobs=-1)]: Using backend LokyBackend with 8 concurrent workers.\n"
     ]
    },
    {
     "name": "stdout",
     "output_type": "stream",
     "text": [
      "******************** Best found baseline model ********************\n",
      "Classification_SVM(C=0.3735574324157715)\n",
      "score:  0.9499248120300752\n",
      "'loss: 11.49412313137918'\n",
      "'w_l1: 4.827039706578124'\n",
      "'w: shape (6,)'\n",
      "'b: shape ()'\n",
      "'slack: shape (100,)'\n",
      "******************************\n"
     ]
    },
    {
     "name": "stderr",
     "output_type": "stream",
     "text": [
      "[Parallel(n_jobs=-1)]: Done  40 out of  40 | elapsed:    0.6s finished\n",
      "[Parallel(n_jobs=-1)]: Using backend LokyBackend with 8 concurrent workers.\n"
     ]
    },
    {
     "name": "stdout",
     "output_type": "stream",
     "text": [
      "FS threshold: -0.003062137274245256-0.0037609499356378584, Mean:0.00034940633069630115, Std:0.00057365780239467, n_probes 11\n",
      "FS threshold: -0.2619964838392958-0.31312919443178205, Mean:0.025566355296243105, Std:0.03838315602969965, n_probes 8\n"
     ]
    },
    {
     "name": "stderr",
     "output_type": "stream",
     "text": [
      "[Parallel(n_jobs=-1)]: Done  20 out of  20 | elapsed:    0.5s finished\n"
     ]
    },
    {
     "data": {
      "text/plain": [
       "FRI(n_jobs=-1, n_param_search=10, n_probe_features=20, normalize=True,\n",
       "    problemName=None, random_state=RandomState(MT19937) at 0x7F30AE749C00,\n",
       "    slack_loss=None, slack_regularization=None, verbose=1)"
      ]
     },
     "execution_count": 62,
     "metadata": {},
     "output_type": "execute_result"
    }
   ],
   "source": [
    "fri_model.fit(X_scaled,y)"
   ]
  },
  {
   "cell_type": "code",
   "execution_count": null,
   "metadata": {},
   "outputs": [],
   "source": []
  }
 ],
 "metadata": {
  "anaconda-cloud": {},
  "kernelspec": {
   "display_name": "Python 3",
   "language": "python",
   "name": "python3"
  },
  "language_info": {
   "codemirror_mode": {
    "name": "ipython",
    "version": 3
   },
   "file_extension": ".py",
   "mimetype": "text/x-python",
   "name": "python",
   "nbconvert_exporter": "python",
   "pygments_lexer": "ipython3",
   "version": "3.7.4"
  },
  "varInspector": {
   "cols": {
    "lenName": 16,
    "lenType": 16,
    "lenVar": 40
   },
   "kernels_config": {
    "python": {
     "delete_cmd_postfix": "",
     "delete_cmd_prefix": "del ",
     "library": "var_list.py",
     "varRefreshCmd": "print(var_dic_list())"
    },
    "r": {
     "delete_cmd_postfix": ") ",
     "delete_cmd_prefix": "rm(",
     "library": "var_list.r",
     "varRefreshCmd": "cat(var_dic_list()) "
    }
   },
   "types_to_exclude": [
    "module",
    "function",
    "builtin_function_or_method",
    "instance",
    "_Feature"
   ],
   "window_display": false
  }
 },
 "nbformat": 4,
 "nbformat_minor": 4
}
