{
 "cells": [
  {
   "cell_type": "markdown",
   "metadata": {},
   "source": [
    "# Quick start guide\n"
   ]
  },
  {
   "cell_type": "markdown",
   "metadata": {},
   "source": [
    "## Installation\n",
    "### Stable\n",
    "Fri can be installed via the Python Package Index (PyPI).\n",
    "\n",
    "If you have `pip` installed just execute the command\n",
    "\n",
    "    pip install fri\n",
    "   \n",
    "to get the newest stable version.\n",
    "\n",
    "The dependencies should be installed and checked automatically.\n",
    "If you have problems installing please open issue at our [tracker](https://github.com/lpfann/fri/issues/new).\n",
    "\n",
    "### Development\n",
    "To install a bleeding edge dev version of `FRI` you can clone the GitHub repository using\n",
    "\n",
    "    git clone git@github.com:lpfann/fri.git\n",
    "\n",
    "and then check out the `dev` branch: `git checkout dev`.\n",
    "\n",
    "To check if everything works as intented you can use `pytest` to run the unit tests.\n",
    "Just run the command\n",
    "\n",
    "    pytest\n",
    "\n",
    "in the main project folder"
   ]
  },
  {
   "cell_type": "code",
   "execution_count": 1,
   "metadata": {
    "scrolled": true
   },
   "outputs": [
    {
     "name": "stdout",
     "output_type": "stream",
     "text": [
      "Requirement already satisfied: fri in /home/lpfannschmidt/Dropbox/Promotion/prj/om_estimator (6.0.0+160.g95126ec)\n",
      "Requirement already satisfied: numpy in /home/lpfannschmidt/anaconda3/lib/python3.7/site-packages (from fri) (1.16.4)\n",
      "Requirement already satisfied: scipy>=1.0 in /home/lpfannschmidt/anaconda3/lib/python3.7/site-packages (from fri) (1.3.0)\n",
      "Requirement already satisfied: scikit-learn>=0.21.1 in /home/lpfannschmidt/anaconda3/lib/python3.7/site-packages (from fri) (0.21.3)\n",
      "Requirement already satisfied: joblib>=0.13.2 in /home/lpfannschmidt/anaconda3/lib/python3.7/site-packages (from fri) (0.13.2)\n",
      "Requirement already satisfied: cvxpy>=1.0.21 in /home/lpfannschmidt/anaconda3/lib/python3.7/site-packages (from fri) (1.0.24)\n",
      "Requirement already satisfied: ecos>=2.0.5 in /home/lpfannschmidt/anaconda3/lib/python3.7/site-packages (from fri) (2.0.7.post1)\n",
      "Requirement already satisfied: matplotlib in /home/lpfannschmidt/anaconda3/lib/python3.7/site-packages (from fri) (3.1.1)\n",
      "Requirement already satisfied: multiprocess in /home/lpfannschmidt/anaconda3/lib/python3.7/site-packages (from cvxpy>=1.0.21->fri) (0.70.8)\n",
      "Requirement already satisfied: six in /home/lpfannschmidt/anaconda3/lib/python3.7/site-packages (from cvxpy>=1.0.21->fri) (1.12.0)\n",
      "Requirement already satisfied: scs>=1.1.3 in /home/lpfannschmidt/anaconda3/lib/python3.7/site-packages (from cvxpy>=1.0.21->fri) (2.1.1.post2)\n",
      "Requirement already satisfied: osqp>=0.4.1 in /home/lpfannschmidt/anaconda3/lib/python3.7/site-packages (from cvxpy>=1.0.21->fri) (0.5.0)\n",
      "Requirement already satisfied: python-dateutil>=2.1 in /home/lpfannschmidt/anaconda3/lib/python3.7/site-packages (from matplotlib->fri) (2.8.0)\n",
      "Requirement already satisfied: pyparsing!=2.0.4,!=2.1.2,!=2.1.6,>=2.0.1 in /home/lpfannschmidt/anaconda3/lib/python3.7/site-packages (from matplotlib->fri) (2.4.2)\n",
      "Requirement already satisfied: cycler>=0.10 in /home/lpfannschmidt/anaconda3/lib/python3.7/site-packages (from matplotlib->fri) (0.10.0)\n",
      "Requirement already satisfied: kiwisolver>=1.0.1 in /home/lpfannschmidt/anaconda3/lib/python3.7/site-packages (from matplotlib->fri) (1.1.0)\n",
      "Requirement already satisfied: dill>=0.3.0 in /home/lpfannschmidt/anaconda3/lib/python3.7/site-packages (from multiprocess->cvxpy>=1.0.21->fri) (0.3.0)\n",
      "Requirement already satisfied: future in /home/lpfannschmidt/anaconda3/lib/python3.7/site-packages (from osqp>=0.4.1->cvxpy>=1.0.21->fri) (0.17.1)\n",
      "Requirement already satisfied: setuptools in /home/lpfannschmidt/anaconda3/lib/python3.7/site-packages (from kiwisolver>=1.0.1->matplotlib->fri) (41.0.1)\n"
     ]
    }
   ],
   "source": [
    "# For the purpose of viewing this notebook online we install the library directly with pip\n",
    "!pip install fri"
   ]
  },
  {
   "cell_type": "markdown",
   "metadata": {},
   "source": [
    "## Using FRI\n",
    "Now we showcase the workflow of using FRI on a simple classification problem.\n",
    "\n",
    "### Data\n",
    "To have something to work with, we need some data first.\n",
    "`fri` includes a generation method for binary classification and regression data.\n",
    "\n",
    "In our case we need some classification data."
   ]
  },
  {
   "cell_type": "code",
   "execution_count": 2,
   "metadata": {},
   "outputs": [],
   "source": [
    "from fri import genClassificationData"
   ]
  },
  {
   "cell_type": "markdown",
   "metadata": {},
   "source": [
    "We want to create a small set with a few features.\n",
    "\n",
    "Because we want to showcase the all-relevant feature selection, we generate multiple strongly and weakly relevant features."
   ]
  },
  {
   "cell_type": "code",
   "execution_count": 3,
   "metadata": {},
   "outputs": [],
   "source": [
    "n = 100\n",
    "features = 6\n",
    "strongly_relevant = 2\n",
    "weakly_relevant = 2"
   ]
  },
  {
   "cell_type": "code",
   "execution_count": 4,
   "metadata": {},
   "outputs": [],
   "source": [
    "X,y = genClassificationData(n_samples=n,\n",
    "                            n_features=features,\n",
    "                            n_strel=strongly_relevant,\n",
    "                            n_redundant=weakly_relevant,\n",
    "                            random_state=123)"
   ]
  },
  {
   "cell_type": "markdown",
   "metadata": {},
   "source": [
    "The method also prints out the parameters again."
   ]
  },
  {
   "cell_type": "code",
   "execution_count": 5,
   "metadata": {},
   "outputs": [
    {
     "data": {
      "text/plain": [
       "(100, 6)"
      ]
     },
     "execution_count": 5,
     "metadata": {},
     "output_type": "execute_result"
    }
   ],
   "source": [
    "X.shape"
   ]
  },
  {
   "cell_type": "markdown",
   "metadata": {},
   "source": [
    "We created a binary classification set with 6 features of which 2 are strongly relevant and 2 weakly relevant."
   ]
  },
  {
   "cell_type": "markdown",
   "metadata": {},
   "source": [
    "#### Preprocess\n",
    "Because our method expects mean centered data we need to standardize it first.\n",
    "This centers the values around 0 and deviation to the standard deviation"
   ]
  },
  {
   "cell_type": "code",
   "execution_count": 6,
   "metadata": {},
   "outputs": [],
   "source": [
    "from sklearn.preprocessing import StandardScaler\n",
    "X_scaled = StandardScaler().fit_transform(X)"
   ]
  },
  {
   "cell_type": "markdown",
   "metadata": {},
   "source": [
    "### Model\n",
    "Now we need to creata a Model. \n",
    "\n",
    "We use the `FRI` module.\n"
   ]
  },
  {
   "cell_type": "code",
   "execution_count": 7,
   "metadata": {},
   "outputs": [],
   "source": [
    "import fri"
   ]
  },
  {
   "cell_type": "markdown",
   "metadata": {},
   "source": [
    "`fri` provides a convenience class `fri.FRI` to create a model.\n",
    "\n",
    "`fri.FRI` needs the type of problem as a first argument of type `ProblemName`.\n",
    "\n",
    "Depending on the Problem you want to analyze pick from one of the available models in `ProblemName`."
   ]
  },
  {
   "cell_type": "code",
   "execution_count": 8,
   "metadata": {},
   "outputs": [
    {
     "data": {
      "text/plain": [
       "[<ProblemName.CLASSIFICATION: <class 'fri.model.classification.Classification'>>,\n",
       " <ProblemName.REGRESSION: <class 'fri.model.regression.Regression'>>,\n",
       " <ProblemName.ORDINALREGRESSION: <class 'fri.model.ordinal_regression.OrdinalRegression'>>,\n",
       " <ProblemName.LUPI_CLASSIFICATION: <class 'fri.model.lupi_classification.LUPI_Classification'>>,\n",
       " <ProblemName.LUPI_REGRESSION: <class 'fri.model.lupi_regression.LUPI_Regression'>>,\n",
       " <ProblemName.LUPI_ORDREGRESSION: <class 'fri.model.lupi_ordinal_regression_exp.LUPI_OrdinalRegression'>>]"
      ]
     },
     "execution_count": 8,
     "metadata": {},
     "output_type": "execute_result"
    }
   ],
   "source": [
    "list(fri.ProblemName)"
   ]
  },
  {
   "cell_type": "markdown",
   "metadata": {},
   "source": [
    "Because we have Classification data we use the `ProblemName.CLASSIFICATION` to instantiate our model."
   ]
  },
  {
   "cell_type": "code",
   "execution_count": 9,
   "metadata": {},
   "outputs": [],
   "source": [
    "fri_model = fri.FRI(fri.ProblemName.CLASSIFICATION,slack_loss=0.001,slack_regularization=0.001)"
   ]
  },
  {
   "cell_type": "code",
   "execution_count": 10,
   "metadata": {},
   "outputs": [
    {
     "data": {
      "text/plain": [
       "FRI(n_jobs=1, n_param_search=50, n_probe_features=80, normalize=True,\n",
       "    problemName=None,\n",
       "    random_state=<mtrand.RandomState object at 0x7f2f94384288>, slack_loss=None,\n",
       "    slack_regularization=None, verbose=0)"
      ]
     },
     "execution_count": 10,
     "metadata": {},
     "output_type": "execute_result"
    }
   ],
   "source": [
    "fri_model"
   ]
  },
  {
   "cell_type": "markdown",
   "metadata": {},
   "source": [
    "We used no parameters for creation so the defaults are active."
   ]
  },
  {
   "cell_type": "markdown",
   "metadata": {},
   "source": [
    "#### Fitting to data\n",
    "Now we can just fit the model to the data using `scikit-learn` like commands."
   ]
  },
  {
   "cell_type": "code",
   "execution_count": 11,
   "metadata": {},
   "outputs": [
    {
     "data": {
      "text/plain": [
       "FRI(n_jobs=1, n_param_search=50, n_probe_features=80, normalize=True,\n",
       "    problemName=None,\n",
       "    random_state=<mtrand.RandomState object at 0x7f2f94384288>, slack_loss=None,\n",
       "    slack_regularization=None, verbose=0)"
      ]
     },
     "execution_count": 11,
     "metadata": {},
     "output_type": "execute_result"
    }
   ],
   "source": [
    "fri_model.fit(X_scaled,y)"
   ]
  },
  {
   "cell_type": "markdown",
   "metadata": {},
   "source": [
    "The resulting feature relevance bounds are saved in the `interval_` variable."
   ]
  },
  {
   "cell_type": "code",
   "execution_count": 12,
   "metadata": {},
   "outputs": [
    {
     "data": {
      "text/plain": [
       "array([[0.34388504, 0.35158714],\n",
       "       [0.3087857 , 0.31784745],\n",
       "       [0.23366248, 0.34163576],\n",
       "       [0.        , 0.10814646],\n",
       "       [0.        , 0.00287764],\n",
       "       [0.        , 0.0025781 ]])"
      ]
     },
     "execution_count": 12,
     "metadata": {},
     "output_type": "execute_result"
    }
   ],
   "source": [
    "fri_model.interval_"
   ]
  },
  {
   "cell_type": "markdown",
   "metadata": {},
   "source": [
    "If you want to print out the relevance class use the `print_interval_with_class()` function."
   ]
  },
  {
   "cell_type": "code",
   "execution_count": 13,
   "metadata": {},
   "outputs": [
    {
     "name": "stdout",
     "output_type": "stream",
     "text": [
      "############## Relevance bounds ##############\n",
      "feature: [LB -- UB], relevance class\n",
      "      0: [0.3 -- 0.4], Strong relevant\n",
      "      1: [0.3 -- 0.3], Strong relevant\n",
      "      2: [0.2 -- 0.3], Strong relevant\n",
      "      3: [0.0 -- 0.1], Irrelevant\n",
      "      4: [0.0 -- 0.0], Irrelevant\n",
      "      5: [0.0 -- 0.0], Irrelevant\n",
      "\n"
     ]
    }
   ],
   "source": [
    "print(fri_model.print_interval_with_class())"
   ]
  },
  {
   "cell_type": "markdown",
   "metadata": {},
   "source": [
    "The bounds are grouped in 2d sublists for each feature.\n",
    "\n",
    "\n",
    "To acess the relevance bounds for feature 2 we would use"
   ]
  },
  {
   "cell_type": "code",
   "execution_count": 14,
   "metadata": {},
   "outputs": [
    {
     "data": {
      "text/plain": [
       "array([0.23366248, 0.34163576])"
      ]
     },
     "execution_count": 14,
     "metadata": {},
     "output_type": "execute_result"
    }
   ],
   "source": [
    "fri_model.interval_[2]"
   ]
  },
  {
   "cell_type": "markdown",
   "metadata": {},
   "source": [
    "The relevance classes are saved in the corresponding variable `relevance_classes_`:"
   ]
  },
  {
   "cell_type": "code",
   "execution_count": 15,
   "metadata": {},
   "outputs": [
    {
     "data": {
      "text/plain": [
       "array([2, 2, 2, 0, 0, 0])"
      ]
     },
     "execution_count": 15,
     "metadata": {},
     "output_type": "execute_result"
    }
   ],
   "source": [
    "fri_model.relevance_classes_"
   ]
  },
  {
   "cell_type": "markdown",
   "metadata": {},
   "source": [
    "`2` denotes strongly relevant features, `1` weakly relevant and `0` irrelevant."
   ]
  },
  {
   "cell_type": "markdown",
   "metadata": {},
   "source": [
    "#### Plot results\n",
    "\n",
    "The bounds in numerical form are useful for postprocesing.\n",
    "If we want a human to look at it, we recommend the plot function `plot_relevance_bars`.\n",
    "\n",
    "We can also color the bars according to `relevance_classes_`"
   ]
  },
  {
   "cell_type": "code",
   "execution_count": 16,
   "metadata": {},
   "outputs": [
    {
     "data": {
      "image/png": "[encoded data removed]",
      "text/plain": [
       "<Figure size 432x216 with 1 Axes>"
      ]
     },
     "metadata": {
      "needs_background": "light"
     },
     "output_type": "display_data"
    }
   ],
   "source": [
    "# Import plot function\n",
    "from fri.plot import plot_relevance_bars\n",
    "import matplotlib.pyplot as plt\n",
    "%matplotlib inline\n",
    "# Create new figure, where we can put an axis on\n",
    "fig, ax = plt.subplots(1, 1,figsize=(6,3))\n",
    "# plot the bars on the axis, colored according to fri\n",
    "out = plot_relevance_bars(ax,fri_model.interval_,classes=fri_model.relevance_classes_)"
   ]
  },
  {
   "cell_type": "markdown",
   "metadata": {},
   "source": [
    "### Print internal Parameters\n",
    "\n",
    "If we want to take at internal parameters, we can use the `verbose` flag in the model creation."
   ]
  },
  {
   "cell_type": "code",
   "execution_count": 17,
   "metadata": {},
   "outputs": [],
   "source": [
    "fri_model = fri.FRI(fri.ProblemName.CLASSIFICATION, verbose=True)"
   ]
  },
  {
   "cell_type": "code",
   "execution_count": 18,
   "metadata": {},
   "outputs": [
    {
     "name": "stdout",
     "output_type": "stream",
     "text": [
      "Fitting 3 folds for each of 50 candidates, totalling 150 fits\n"
     ]
    },
    {
     "name": "stderr",
     "output_type": "stream",
     "text": [
      "[Parallel(n_jobs=1)]: Using backend SequentialBackend with 1 concurrent workers.\n",
      "[Parallel(n_jobs=1)]: Done 150 out of 150 | elapsed:    0.9s finished\n",
      "[Parallel(n_jobs=1)]: Using backend SequentialBackend with 1 concurrent workers.\n",
      "[Parallel(n_jobs=1)]: Done  18 out of  18 | elapsed:    0.2s finished\n",
      "[Parallel(n_jobs=1)]: Using backend SequentialBackend with 1 concurrent workers.\n"
     ]
    },
    {
     "name": "stdout",
     "output_type": "stream",
     "text": [
      "******************** Best found baseline model ********************\n",
      "Classification_SVM(C=2.252620785394559)\n",
      "score:  0.98\n",
      "'loss: 3.912340912240545'\n",
      "'w_l1: 10.701925716627462'\n",
      "'w: shape (6,)'\n",
      "'b: shape ()'\n",
      "'slack: shape (100,)'\n",
      "******************************\n"
     ]
    },
    {
     "name": "stderr",
     "output_type": "stream",
     "text": [
      "[Parallel(n_jobs=1)]: Done 160 out of 160 | elapsed:    1.5s finished\n",
      "[Parallel(n_jobs=1)]: Using backend SequentialBackend with 1 concurrent workers.\n"
     ]
    },
    {
     "name": "stdout",
     "output_type": "stream",
     "text": [
      "FS threshold: -0.020384605044528673-0.024502494977920716, Mean:0.002058944966696022, Std:0.005444840132729435, n_probes 43\n",
      "FS threshold: -0.03633035235181863-0.14343569308400425, Mean:0.05355267036609281, Std:0.021690778769127776, n_probes 41\n"
     ]
    },
    {
     "name": "stderr",
     "output_type": "stream",
     "text": [
      "[Parallel(n_jobs=1)]: Done  80 out of  80 | elapsed:    0.8s finished\n"
     ]
    },
    {
     "data": {
      "text/plain": [
       "FRI(n_jobs=1, n_param_search=50, n_probe_features=80, normalize=True,\n",
       "    problemName=None,\n",
       "    random_state=<mtrand.RandomState object at 0x7f2f94384288>, slack_loss=None,\n",
       "    slack_regularization=None, verbose=True)"
      ]
     },
     "execution_count": 18,
     "metadata": {},
     "output_type": "execute_result"
    }
   ],
   "source": [
    "fri_model.fit(X_scaled,y)"
   ]
  },
  {
   "cell_type": "markdown",
   "metadata": {},
   "source": [
    "This prints out the parameters of the baseline model\n",
    "\n",
    "One can also see the best selected hyperparameter according to gridsearch and the training score of the model in `score`.\n"
   ]
  },
  {
   "cell_type": "markdown",
   "metadata": {},
   "source": [
    "### Setting constraints manually\n",
    "Our model also allows to compute relevance bounds when the user sets a given range for the features.\n",
    "\n",
    "We use a dictionary to encode our constraints.\n"
   ]
  },
  {
   "cell_type": "code",
   "execution_count": 22,
   "metadata": {},
   "outputs": [],
   "source": [
    "preset = {}"
   ]
  },
  {
   "cell_type": "markdown",
   "metadata": {},
   "source": [
    "#### Example\n",
    "As an example, let us constrain the third from our example to the minimum relevance bound.\n",
    "\n"
   ]
  },
  {
   "cell_type": "code",
   "execution_count": 23,
   "metadata": {},
   "outputs": [],
   "source": [
    "preset[2] = fri_model.interval_[2, 0]"
   ]
  },
  {
   "cell_type": "markdown",
   "metadata": {},
   "source": [
    "We use the function `constrained_intervals`.\n",
    "\n",
    "Note: we need to fit the model before we can use this function.\n",
    "We already did that, so we are fine."
   ]
  },
  {
   "cell_type": "code",
   "execution_count": 25,
   "metadata": {},
   "outputs": [
    {
     "ename": "IndexError",
     "evalue": "invalid index to scalar variable.",
     "output_type": "error",
     "traceback": [
      "\u001b[0;31m---------------------------------------------------------------------------\u001b[0m",
      "\u001b[0;31mIndexError\u001b[0m                                Traceback (most recent call last)",
      "\u001b[0;32m<ipython-input-25-b9f69bfa650a>\u001b[0m in \u001b[0;36m<module>\u001b[0;34m\u001b[0m\n\u001b[0;32m----> 1\u001b[0;31m \u001b[0mconst_ints\u001b[0m \u001b[0;34m=\u001b[0m \u001b[0mfri_model\u001b[0m\u001b[0;34m.\u001b[0m\u001b[0mconstrained_intervals\u001b[0m\u001b[0;34m(\u001b[0m\u001b[0mpreset\u001b[0m\u001b[0;34m=\u001b[0m\u001b[0mpreset\u001b[0m\u001b[0;34m)\u001b[0m\u001b[0;34m\u001b[0m\u001b[0;34m\u001b[0m\u001b[0m\n\u001b[0m",
      "\u001b[0;32m~/Dropbox/Promotion/prj/om_estimator/fri/main.py\u001b[0m in \u001b[0;36mconstrained_intervals\u001b[0;34m(self, preset)\u001b[0m\n\u001b[1;32m    215\u001b[0m \u001b[0;34m\u001b[0m\u001b[0m\n\u001b[1;32m    216\u001b[0m         return self._relevance_bounds_computer.compute_multi_preset_relevance_bounds(preset=preset,\n\u001b[0;32m--> 217\u001b[0;31m                                                                                      lupi_features=self.lupi_features_)\n\u001b[0m\u001b[1;32m    218\u001b[0m \u001b[0;34m\u001b[0m\u001b[0m\n\u001b[1;32m    219\u001b[0m     \u001b[0;32mdef\u001b[0m \u001b[0mprint_interval_with_class\u001b[0m\u001b[0;34m(\u001b[0m\u001b[0mself\u001b[0m\u001b[0;34m)\u001b[0m\u001b[0;34m:\u001b[0m\u001b[0;34m\u001b[0m\u001b[0;34m\u001b[0m\u001b[0m\n",
      "\u001b[0;32m~/Dropbox/Promotion/prj/om_estimator/fri/compute.py\u001b[0m in \u001b[0;36mcompute_multi_preset_relevance_bounds\u001b[0;34m(self, preset, lupi_features)\u001b[0m\n\u001b[1;32m    256\u001b[0m \u001b[0;34m\u001b[0m\u001b[0m\n\u001b[1;32m    257\u001b[0m         \u001b[0;31m# Add sign to presets\u001b[0m\u001b[0;34m\u001b[0m\u001b[0;34m\u001b[0m\u001b[0;34m\u001b[0m\u001b[0m\n\u001b[0;32m--> 258\u001b[0;31m         \u001b[0mpreset\u001b[0m \u001b[0;34m=\u001b[0m \u001b[0mself\u001b[0m\u001b[0;34m.\u001b[0m\u001b[0m_add_sign_to_preset\u001b[0m\u001b[0;34m(\u001b[0m\u001b[0mpreset\u001b[0m\u001b[0;34m)\u001b[0m\u001b[0;34m\u001b[0m\u001b[0;34m\u001b[0m\u001b[0m\n\u001b[0m\u001b[1;32m    259\u001b[0m \u001b[0;34m\u001b[0m\u001b[0m\n\u001b[1;32m    260\u001b[0m         \u001b[0;31m# Calculate all bounds with feature i set to min_i\u001b[0m\u001b[0;34m\u001b[0m\u001b[0;34m\u001b[0m\u001b[0;34m\u001b[0m\u001b[0m\n",
      "\u001b[0;32m~/Dropbox/Promotion/prj/om_estimator/fri/compute.py\u001b[0m in \u001b[0;36m_add_sign_to_preset\u001b[0;34m(self, unsigned_presets)\u001b[0m\n\u001b[1;32m    287\u001b[0m             \u001b[0munsigned_preset_i\u001b[0m \u001b[0;34m=\u001b[0m \u001b[0mnp\u001b[0m\u001b[0;34m.\u001b[0m\u001b[0msign\u001b[0m\u001b[0;34m(\u001b[0m\u001b[0mw\u001b[0m\u001b[0;34m[\u001b[0m\u001b[0mi\u001b[0m\u001b[0;34m]\u001b[0m\u001b[0;34m)\u001b[0m \u001b[0;34m*\u001b[0m \u001b[0mpreset\u001b[0m\u001b[0;34m\u001b[0m\u001b[0;34m\u001b[0m\u001b[0m\n\u001b[1;32m    288\u001b[0m             \u001b[0;31m# accumulate maximal feature  contribution\u001b[0m\u001b[0;34m\u001b[0m\u001b[0;34m\u001b[0m\u001b[0;34m\u001b[0m\u001b[0m\n\u001b[0;32m--> 289\u001b[0;31m             \u001b[0msum\u001b[0m \u001b[0;34m+=\u001b[0m \u001b[0munsigned_preset_i\u001b[0m\u001b[0;34m[\u001b[0m\u001b[0;36m1\u001b[0m\u001b[0;34m]\u001b[0m\u001b[0;34m\u001b[0m\u001b[0;34m\u001b[0m\u001b[0m\n\u001b[0m\u001b[1;32m    290\u001b[0m             \u001b[0msigned_presets\u001b[0m\u001b[0;34m[\u001b[0m\u001b[0mi\u001b[0m\u001b[0;34m]\u001b[0m \u001b[0;34m=\u001b[0m \u001b[0munsigned_preset_i\u001b[0m\u001b[0;34m\u001b[0m\u001b[0;34m\u001b[0m\u001b[0m\n\u001b[1;32m    291\u001b[0m \u001b[0;34m\u001b[0m\u001b[0m\n",
      "\u001b[0;31mIndexError\u001b[0m: invalid index to scalar variable."
     ]
    }
   ],
   "source": [
    "const_ints = fri_model.constrained_intervals(preset=preset)"
   ]
  },
  {
   "cell_type": "code",
   "execution_count": 26,
   "metadata": {},
   "outputs": [
    {
     "ename": "NameError",
     "evalue": "name 'constrained_interval' is not defined",
     "output_type": "error",
     "traceback": [
      "\u001b[0;31m---------------------------------------------------------------------------\u001b[0m",
      "\u001b[0;31mNameError\u001b[0m                                 Traceback (most recent call last)",
      "\u001b[0;32m<ipython-input-26-4ecb5fc7bf2e>\u001b[0m in \u001b[0;36m<module>\u001b[0;34m\u001b[0m\n\u001b[0;32m----> 1\u001b[0;31m \u001b[0mconstrained_interval\u001b[0m\u001b[0;34m\u001b[0m\u001b[0;34m\u001b[0m\u001b[0m\n\u001b[0m",
      "\u001b[0;31mNameError\u001b[0m: name 'constrained_interval' is not defined"
     ]
    }
   ],
   "source": [
    "constrained_interval"
   ]
  },
  {
   "cell_type": "markdown",
   "metadata": {},
   "source": [
    "Feature 3 is set to its minimum (at 0).\n",
    "\n",
    "How does it look visually?"
   ]
  },
  {
   "cell_type": "code",
   "execution_count": 53,
   "metadata": {},
   "outputs": [
    {
     "ename": "NameError",
     "evalue": "name 'constrained_interval' is not defined",
     "output_type": "error",
     "traceback": [
      "\u001b[0;31m---------------------------------------------------------------------------\u001b[0m",
      "\u001b[0;31mNameError\u001b[0m                                 Traceback (most recent call last)",
      "\u001b[0;32m<ipython-input-53-3bd61fa3c5a6>\u001b[0m in \u001b[0;36m<module>\u001b[0;34m\u001b[0m\n\u001b[1;32m      1\u001b[0m \u001b[0mfig\u001b[0m\u001b[0;34m,\u001b[0m \u001b[0max\u001b[0m \u001b[0;34m=\u001b[0m \u001b[0mplt\u001b[0m\u001b[0;34m.\u001b[0m\u001b[0msubplots\u001b[0m\u001b[0;34m(\u001b[0m\u001b[0;36m1\u001b[0m\u001b[0;34m,\u001b[0m \u001b[0;36m1\u001b[0m\u001b[0;34m,\u001b[0m\u001b[0mfigsize\u001b[0m\u001b[0;34m=\u001b[0m\u001b[0;34m(\u001b[0m\u001b[0;36m6\u001b[0m\u001b[0;34m,\u001b[0m\u001b[0;36m3\u001b[0m\u001b[0;34m)\u001b[0m\u001b[0;34m)\u001b[0m\u001b[0;34m\u001b[0m\u001b[0;34m\u001b[0m\u001b[0m\n\u001b[0;32m----> 2\u001b[0;31m \u001b[0mout\u001b[0m \u001b[0;34m=\u001b[0m \u001b[0mplot_relevance_bars\u001b[0m\u001b[0;34m(\u001b[0m\u001b[0max\u001b[0m\u001b[0;34m,\u001b[0m \u001b[0mconstrained_interval\u001b[0m\u001b[0;34m)\u001b[0m\u001b[0;34m\u001b[0m\u001b[0;34m\u001b[0m\u001b[0m\n\u001b[0m",
      "\u001b[0;31mNameError\u001b[0m: name 'constrained_interval' is not defined"
     ]
    },
    {
     "data": {
      "image/png": "[encoded data removed]",
      "text/plain": [
       "<Figure size 432x216 with 1 Axes>"
      ]
     },
     "metadata": {
      "needs_background": "light"
     },
     "output_type": "display_data"
    }
   ],
   "source": [
    "fig, ax = plt.subplots(1, 1,figsize=(6,3))\n",
    "out = plot_relevance_bars(ax, constrained_interval)"
   ]
  },
  {
   "cell_type": "markdown",
   "metadata": {},
   "source": [
    "Feature 3 is reduced to its minimum (no contribution).\n",
    "\n",
    "In turn, its correlated partner feature 4 had to take its maximum contribution."
   ]
  }
 ],
 "metadata": {
  "anaconda-cloud": {},
  "kernelspec": {
   "display_name": "Python 3",
   "language": "python",
   "name": "python3"
  },
  "language_info": {
   "codemirror_mode": {
    "name": "ipython",
    "version": 3
   },
   "file_extension": ".py",
   "mimetype": "text/x-python",
   "name": "python",
   "nbconvert_exporter": "python",
   "pygments_lexer": "ipython3",
   "version": "3.7.3"
  },
  "varInspector": {
   "cols": {
    "lenName": 16,
    "lenType": 16,
    "lenVar": 40
   },
   "kernels_config": {
    "python": {
     "delete_cmd_postfix": "",
     "delete_cmd_prefix": "del ",
     "library": "var_list.py",
     "varRefreshCmd": "print(var_dic_list())"
    },
    "r": {
     "delete_cmd_postfix": ") ",
     "delete_cmd_prefix": "rm(",
     "library": "var_list.r",
     "varRefreshCmd": "cat(var_dic_list()) "
    }
   },
   "types_to_exclude": [
    "module",
    "function",
    "builtin_function_or_method",
    "instance",
    "_Feature"
   ],
   "window_display": false
  }
 },
 "nbformat": 4,
 "nbformat_minor": 4
}
